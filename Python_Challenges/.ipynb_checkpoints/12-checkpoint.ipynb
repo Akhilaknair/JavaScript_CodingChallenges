{
 "cells": [
  {
   "cell_type": "code",
   "execution_count": 19,
   "id": "d7bced9d-c5fc-445f-9067-a67674affb8a",
   "metadata": {},
   "outputs": [
    {
     "name": "stdout",
     "output_type": "stream",
     "text": [
      "The email has been sent through gmail.com\n",
      " It was sent on Sun Jan 27 20:29:15 2023.\n"
     ]
    }
   ],
   "source": [
    "def parsefuncn(email):\n",
    "    parts=email.split()\n",
    "    email = parts[1]\n",
    "    email_domain = email.split('@')[1]\n",
    "    time=\" \".join(parts[2:])\n",
    "    return email_domain,time\n",
    "    \n",
    "\n",
    "\n",
    "email=\"From abc.jims@gmail.com Sun Jan 27 20:29:15 2023\"\n",
    "ans=parsefuncn(email)\n",
    "print(f\"The email has been sent through {ans[0]}\\nIt was sent on {ans[1]}.\")\n"
   ]
  },
  {
   "cell_type": "code",
   "execution_count": null,
   "id": "4d018597-eb17-413e-8eb1-0573aad56e68",
   "metadata": {},
   "outputs": [],
   "source": []
  }
 ],
 "metadata": {
  "kernelspec": {
   "display_name": "Python 3 (ipykernel)",
   "language": "python",
   "name": "python3"
  },
  "language_info": {
   "codemirror_mode": {
    "name": "ipython",
    "version": 3
   },
   "file_extension": ".py",
   "mimetype": "text/x-python",
   "name": "python",
   "nbconvert_exporter": "python",
   "pygments_lexer": "ipython3",
   "version": "3.13.1"
  }
 },
 "nbformat": 4,
 "nbformat_minor": 5
}
