{
 "cells": [
  {
   "cell_type": "code",
   "execution_count": 1,
   "id": "b009e206-b7e2-4469-b118-25b3de1e513a",
   "metadata": {},
   "outputs": [
    {
     "name": "stdin",
     "output_type": "stream",
     "text": [
      "Enter starting range:  1\n",
      "Enter ending range:  20\n",
      "Enter the divisor:  4\n"
     ]
    },
    {
     "name": "stdout",
     "output_type": "stream",
     "text": [
      "Numbers divisible by 4 between 1 and 20 are:\n",
      "4 8 12 16 20 "
     ]
    }
   ],
   "source": [
    "def print_divisible_numbers(start, end, divisor):\n",
    "    for num in range(start, end + 1):\n",
    "        if num % divisor == 0:\n",
    "            print(num, end=\" \") \n",
    "\n",
    "\n",
    "start = int(input(\"Enter starting range: \"))\n",
    "end = int(input(\"Enter ending range: \"))\n",
    "divisor = int(input(\"Enter the divisor: \"))\n",
    "\n",
    "print(f\"Numbers divisible by {divisor} between {start} and {end} are:\")\n",
    "print_divisible_numbers(start, end, divisor)"
   ]
  },
  {
   "cell_type": "code",
   "execution_count": null,
   "id": "038c7bbb-b5c2-4c5f-ad8d-dfae343b0b3f",
   "metadata": {},
   "outputs": [],
   "source": []
  }
 ],
 "metadata": {
  "kernelspec": {
   "display_name": "Python 3 (ipykernel)",
   "language": "python",
   "name": "python3"
  },
  "language_info": {
   "codemirror_mode": {
    "name": "ipython",
    "version": 3
   },
   "file_extension": ".py",
   "mimetype": "text/x-python",
   "name": "python",
   "nbconvert_exporter": "python",
   "pygments_lexer": "ipython3",
   "version": "3.13.1"
  }
 },
 "nbformat": 4,
 "nbformat_minor": 5
}
