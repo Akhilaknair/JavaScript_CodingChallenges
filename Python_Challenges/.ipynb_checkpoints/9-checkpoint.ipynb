{
 "cells": [
  {
   "cell_type": "code",
   "execution_count": 2,
   "id": "40b3aee6-cc89-4821-b462-50821cb2ac48",
   "metadata": {},
   "outputs": [
    {
     "name": "stdin",
     "output_type": "stream",
     "text": [
      "enter no of terms n ?  7\n"
     ]
    },
    {
     "name": "stdout",
     "output_type": "stream",
     "text": [
      "Answer : 2.7182539682539684\n"
     ]
    }
   ],
   "source": [
    "def factorial(n):\n",
    "    if n==0 or n==1 :\n",
    "        return 1\n",
    "    fact=1\n",
    "    for i in range(2,n+1):\n",
    "        fact=fact*i\n",
    "    return fact\n",
    "\n",
    "\n",
    "def funcn(n):\n",
    "    start=1\n",
    "    for i in range(1,n+1):\n",
    "        start+=1/factorial(i)\n",
    "    return start\n",
    "    \n",
    "      \n",
    "    \n",
    "n=int(input(\"enter no of terms n ? \"))\n",
    "euler_ans=funcn(n)\n",
    "print(f\"Answer : {euler_ans}\")"
   ]
  },
  {
   "cell_type": "code",
   "execution_count": null,
   "id": "a94baaf8-80e4-4927-84cb-005bc81fbdc2",
   "metadata": {},
   "outputs": [],
   "source": []
  }
 ],
 "metadata": {
  "kernelspec": {
   "display_name": "Python 3 (ipykernel)",
   "language": "python",
   "name": "python3"
  },
  "language_info": {
   "codemirror_mode": {
    "name": "ipython",
    "version": 3
   },
   "file_extension": ".py",
   "mimetype": "text/x-python",
   "name": "python",
   "nbconvert_exporter": "python",
   "pygments_lexer": "ipython3",
   "version": "3.13.1"
  }
 },
 "nbformat": 4,
 "nbformat_minor": 5
}
