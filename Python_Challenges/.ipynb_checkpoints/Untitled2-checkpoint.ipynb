{
 "cells": [
  {
   "cell_type": "code",
   "execution_count": null,
   "id": "90d2d01b-5347-42d3-8596-b8373ead0ff1",
   "metadata": {},
   "outputs": [],
   "source": [
    "n1=int(input(\"enter num1 \"))\n",
    "n2=int(input(\"enter num2 \"))\n",
    "n3=int(input(\"enter num3 \"))\n",
    "arr=[n1,n2,n3]\n",
    "for i in arr:\n",
    "    for j in arr:\n",
    "        for k in arr:\n",
    "            if i!=j and j!=k and k!=j:\n",
    "                print(i"
   ]
  }
 ],
 "metadata": {
  "kernelspec": {
   "display_name": "Python 3 (ipykernel)",
   "language": "python",
   "name": "python3"
  },
  "language_info": {
   "codemirror_mode": {
    "name": "ipython",
    "version": 3
   },
   "file_extension": ".py",
   "mimetype": "text/x-python",
   "name": "python",
   "nbconvert_exporter": "python",
   "pygments_lexer": "ipython3",
   "version": "3.13.1"
  }
 },
 "nbformat": 4,
 "nbformat_minor": 5
}
