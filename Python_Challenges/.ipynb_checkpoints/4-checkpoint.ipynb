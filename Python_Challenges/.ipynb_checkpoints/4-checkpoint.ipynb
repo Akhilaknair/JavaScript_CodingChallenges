{
 "cells": [
  {
   "cell_type": "code",
   "execution_count": null,
   "id": "19a1dc36-c463-4b9a-b069-1b50f1db42c7",
   "metadata": {},
   "outputs": [],
   "source": [
    "def sumofdig(n):\n",
    "    sum=0\n",
    "    while n!=0:\n",
    "        sum=sum+(n%10)\n",
    "        n=n//10\n",
    "    print(sum)    \n",
    "n=int(input(\"enter a digit\"))\n",
    "sumofdig(n)"
   ]
  },
  {
   "cell_type": "code",
   "execution_count": null,
   "id": "e9cf9f68-dcea-40f8-9d35-7c3b80efa857",
   "metadata": {},
   "outputs": [],
   "source": []
  }
 ],
 "metadata": {
  "kernelspec": {
   "display_name": "Python 3 (ipykernel)",
   "language": "python",
   "name": "python3"
  },
  "language_info": {
   "codemirror_mode": {
    "name": "ipython",
    "version": 3
   },
   "file_extension": ".py",
   "mimetype": "text/x-python",
   "name": "python",
   "nbconvert_exporter": "python",
   "pygments_lexer": "ipython3",
   "version": "3.13.1"
  }
 },
 "nbformat": 4,
 "nbformat_minor": 5
}
