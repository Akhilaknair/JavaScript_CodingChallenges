{
 "cells": [
  {
   "cell_type": "code",
   "execution_count": 13,
   "id": "cef76166-f115-475f-bd67-fa4c35bf5398",
   "metadata": {},
   "outputs": [
    {
     "name": "stdout",
     "output_type": "stream",
     "text": [
      "enter a number  34\n"
     ]
    },
    {
     "name": "stdout",
     "output_type": "stream",
     "text": [
      "n :  4\n"
     ]
    }
   ],
   "source": [
    "n=int(input(\"enter a number \"))\n",
    "if n>0:\n",
    "    v=n%10;\n",
    "\n",
    "print(\"n : \",v)"
   ]
  },
  {
   "cell_type": "code",
   "execution_count": 11,
   "id": "1e4d97ed-6ef8-41d6-a179-31d2f0e9923e",
   "metadata": {},
   "outputs": [
    {
     "name": "stdout",
     "output_type": "stream",
     "text": [
      "enter quantity: 2\n",
      "enter val: 5000\n",
      "enter disct: 5\n",
      "enter tax: 3\n"
     ]
    },
    {
     "name": "stdout",
     "output_type": "stream",
     "text": [
      "9800.0\n"
     ]
    }
   ],
   "source": [
    "def bill(quantity,val,disct,tax):\n",
    "    price=quantity*val\n",
    "    caltax=(tax/100)*(price)\n",
    "    caldisc=(disct/100)*(price)\n",
    "    return price+caltax-caldisc\n",
    "    \n",
    "q=int(input(\"enter quantity:\"))\n",
    "p=int(input(\"enter val:\"))\n",
    "d=int(input(\"enter disct:\"))\n",
    "t=int(input(\"enter tax:\"))\n",
    "\n",
    "print(bill(q,p,d,t))"
   ]
  },
  {
   "cell_type": "code",
   "execution_count": 17,
   "id": "e54e0eaa-657c-4656-a2a0-f8069c5349e0",
   "metadata": {},
   "outputs": [
    {
     "name": "stdout",
     "output_type": "stream",
     "text": [
      "103\n"
     ]
    }
   ],
   "source": [
    "print(ord('g')) #to get ascii val"
   ]
  },
  {
   "cell_type": "code",
   "execution_count": 24,
   "id": "1ecd508c-a7aa-48bb-ad6c-fca956446130",
   "metadata": {},
   "outputs": [
    {
     "name": "stdout",
     "output_type": "stream",
     "text": [
      "enter a string stRiHH\n"
     ]
    },
    {
     "name": "stdout",
     "output_type": "stream",
     "text": [
      "STRIHH\n",
      "strihh\n"
     ]
    }
   ],
   "source": [
    "str=input(\"enter a string\")\n",
    "print(str.upper())\n",
    "print(str.lower())"
   ]
  },
  {
   "cell_type": "code",
   "execution_count": 34,
   "id": "1cecdb3d-183d-44f3-88cd-ee1cb23e3654",
   "metadata": {},
   "outputs": [
    {
     "name": "stdout",
     "output_type": "stream",
     "text": [
      "enter exam marks out of 100 23\n",
      "enter act1 marks in 100 67\n",
      "enter act2 marks in 100 89\n",
      "enter act3 marks in 100 45\n",
      "enter sports marks in 100 67\n"
     ]
    },
    {
     "name": "stdout",
     "output_type": "stream",
     "text": [
      "57.24\n"
     ]
    }
   ],
   "source": [
    "def cal():\n",
    "    exam=int(input(\"enter exam marks out of 100\"))\n",
    "    act1=int(input(\"enter act1 marks in 100\"))\n",
    "    act2=int(input(\"enter act2 marks in 100\"))\n",
    "    act3=int(input(\"enter act3 marks in 100\"))\n",
    "    sports=int(input(\"enter sports marks in 100\"))\n",
    "    e=(50/100)*(exam)\n",
    "    tot_act=(act1+act2+act3)\n",
    "    act=(30/100)*(tot_act)\n",
    "    sp=(20/100)*(sports)\n",
    "    return (((e+tot_act+act+sp)/(500))*(100))\n",
    "print(cal())\n",
    "\n"
   ]
  },
  {
   "cell_type": "code",
   "execution_count": 46,
   "id": "98b20ec8-1666-4024-98c4-3ba601a0128b",
   "metadata": {},
   "outputs": [
    {
     "name": "stdout",
     "output_type": "stream",
     "text": [
      "enter a digit 8\n"
     ]
    },
    {
     "name": "stdout",
     "output_type": "stream",
     "text": [
      "not a perfect no\n"
     ]
    }
   ],
   "source": [
    "n=int(input(\"enter a digit\"))\n",
    "h=int(n/2)\n",
    "sum=0\n",
    "for i in range (1,h+1):\n",
    "    if n%i==0:\n",
    "        sum=sum+i\n",
    "if sum==n:\n",
    "    print(\"perfect no\")\n",
    "else:\n",
    "    print(\"not a perfect no\")"
   ]
  },
  {
   "cell_type": "code",
   "execution_count": null,
   "id": "772d61c6-c02f-49b2-9a1d-4c9d484c360f",
   "metadata": {},
   "outputs": [],
   "source": [
    "n=int(input(\"enter a digit\"))\n",
    "sq=n*n\n",
    "i=0\n",
    "c=0\n",
    "while n>0:\n",
    "    sq=int(sq%10)\n",
    "    n=int(n%10)\n",
    "    i=i+1\n",
    "    print(sq)\n",
    "    print(n)\n",
    "    if sq!=n:\n",
    "        print(\"false\")\n",
    "        break;\n",
    "    else:\n",
    "        c=c+1\n",
    "        if (c==i):\n",
    "           print(\"true\")\n",
    "           break;\n",
    "\n",
    "        \n",
    "        \n",
    "    "
   ]
  },
  {
   "cell_type": "code",
   "execution_count": null,
   "id": "16470d37-7938-4ea1-a6c8-75b63b694fb2",
   "metadata": {},
   "outputs": [],
   "source": [
    "print(chr(103))"
   ]
  },
  {
   "cell_type": "code",
   "execution_count": null,
   "id": "d28e0e2a-7fd2-4c65-b21e-900fad14c741",
   "metadata": {},
   "outputs": [],
   "source": [
    "# Reverse a string\n",
    "s=\"hello\"\n",
    "print(s[::-1])\n",
    "a = \"Hello, World!\"\n",
    "print(a.replace(\"H\", \"J\"))\n",
    "mylist = [\"a\", \"b\", \"a\", \"c\", \"c\"]\n",
    "mylist = list(dict.fromkeys(mylist))\n",
    "print(mylist)"
   ]
  }
 ],
 "metadata": {
  "kernelspec": {
   "display_name": "Python 3 (ipykernel)",
   "language": "python",
   "name": "python3"
  },
  "language_info": {
   "codemirror_mode": {
    "name": "ipython",
    "version": 3
   },
   "file_extension": ".py",
   "mimetype": "text/x-python",
   "name": "python",
   "nbconvert_exporter": "python",
   "pygments_lexer": "ipython3",
   "version": "3.13.1"
  }
 },
 "nbformat": 4,
 "nbformat_minor": 5
}
