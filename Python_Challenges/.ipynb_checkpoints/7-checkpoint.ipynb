{
 "cells": [
  {
   "cell_type": "code",
   "execution_count": 6,
   "id": "16e35f31-c735-40ff-9d09-fb9ad8eb3792",
   "metadata": {},
   "outputs": [
    {
     "name": "stdin",
     "output_type": "stream",
     "text": [
      "enter value of n :  4\n"
     ]
    },
    {
     "name": "stdout",
     "output_type": "stream",
     "text": [
      "0 1 1 1 \n",
      "1 0 1 1 \n",
      "1 1 0 1 \n",
      "1 1 1 0 \n"
     ]
    }
   ],
   "source": [
    "def print_matrix(n):\n",
    "    for i in range(n):\n",
    "        for j in range(n):\n",
    "            if i==j :\n",
    "                print(0,end =\" \")\n",
    "            else:\n",
    "                print(1,end=\" \")\n",
    "        print()\n",
    "\n",
    "n=int(input(\"enter value of n : \"))\n",
    "print_matrix(n)"
   ]
  },
  {
   "cell_type": "code",
   "execution_count": null,
   "id": "46f0f51b-dc77-45dc-9694-83a030f69199",
   "metadata": {},
   "outputs": [],
   "source": []
  }
 ],
 "metadata": {
  "kernelspec": {
   "display_name": "Python 3 (ipykernel)",
   "language": "python",
   "name": "python3"
  },
  "language_info": {
   "codemirror_mode": {
    "name": "ipython",
    "version": 3
   },
   "file_extension": ".py",
   "mimetype": "text/x-python",
   "name": "python",
   "nbconvert_exporter": "python",
   "pygments_lexer": "ipython3",
   "version": "3.13.1"
  }
 },
 "nbformat": 4,
 "nbformat_minor": 5
}
