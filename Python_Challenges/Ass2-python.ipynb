{
 "cells": [
  {
   "cell_type": "code",
   "execution_count": 1,
   "id": "135cc9c9-c694-4fdb-8323-6fa99d96f67f",
   "metadata": {},
   "outputs": [
    {
     "name": "stdout",
     "output_type": "stream",
     "text": [
      "The second largest element is: 34\n"
     ]
    }
   ],
   "source": [
    "#qn 1 \n",
    "def second_largest(Num):\n",
    "    if len(Num) < 2:\n",
    "        return \"List must have at least two elements.\"\n",
    "\n",
    "    largest = second = float('-inf')#neg infinite no\n",
    "\n",
    "    for num in Num:\n",
    "        if num > largest:\n",
    "            second = largest \n",
    "            largest = num    \n",
    "        elif num > second and num != largest:\n",
    "            second = num  \n",
    "    \n",
    "    return second\n",
    "\n",
    "\n",
    "Num = [12, 35, 1, 10, 34, 1]\n",
    "result = second_largest(Num)\n",
    "print(f\"The second largest element is: {result}\")\n"
   ]
  },
  {
   "cell_type": "code",
   "execution_count": 2,
   "id": "119e4842-e2f1-4653-8314-79942717b0b3",
   "metadata": {},
   "outputs": [
    {
     "name": "stdout",
     "output_type": "stream",
     "text": [
      "Updated list : [92, 34]\n"
     ]
    }
   ],
   "source": [
    "#qn 2 \n",
    "def remove_oddnegative(Num):\n",
    "    result = []\n",
    "    \n",
    "    for num in Num:\n",
    "        if num > 0 and num % 2 == 0:\n",
    "            result.append(num)  \n",
    "    \n",
    "    return result\n",
    "\n",
    "\n",
    "Num = [92, -35, 35, 1, -10, 34, 0, 17]\n",
    "result = remove_oddnegative(Num)\n",
    "print(f\"Updated list : {result}\")\n"
   ]
  },
  {
   "cell_type": "code",
   "execution_count": 3,
   "id": "8f293e9c-a790-4f12-954c-bcdb56a22bb3",
   "metadata": {},
   "outputs": [
    {
     "name": "stdout",
     "output_type": "stream",
     "text": [
      "Elements occurring odd number of times: [82, 11, 7]\n"
     ]
    }
   ],
   "source": [
    "#qn 3 \n",
    "def odd_occurrences(Num):\n",
    "    count_dict = {}\n",
    "\n",
    "    for num in Num:\n",
    "        if num in count_dict:\n",
    "            count_dict[num] += 1\n",
    "        else:\n",
    "            count_dict[num] = 1\n",
    "\n",
    "    odd_occurrences = []\n",
    "\n",
    "    for num, count in count_dict.items():\n",
    "        if count % 2 != 0:\n",
    "            odd_occurrences.append(num)\n",
    "\n",
    "    return odd_occurrences\n",
    "\n",
    "Num = [82, 11, 11, 12,12, 35, 11, 35, 7]\n",
    "result = odd_occurrences(Num)\n",
    "print(f\"Elements occurring odd number of times: {result}\")\n",
    "\n"
   ]
  },
  {
   "cell_type": "code",
   "execution_count": 6,
   "id": "e8f9533b-e7ac-4f08-b02c-92fc5f2c65a1",
   "metadata": {},
   "outputs": [
    {
     "name": "stdout",
     "output_type": "stream",
     "text": [
      "Enter a string:  malayalam\n"
     ]
    },
    {
     "name": "stdout",
     "output_type": "stream",
     "text": [
      "'malayalam' is a palindrome.\n"
     ]
    }
   ],
   "source": [
    "#qn 4 \n",
    "def is_palindrome(s):\n",
    "    s = s.replace(\" \", \"\").lower() \n",
    "    return s == s[::-1]\n",
    "\n",
    "string = input(\"Enter a string: \")\n",
    "if is_palindrome(string):\n",
    "    print(f\"'{string}' is a palindrome.\")\n",
    "else:\n",
    "    print(f\"'{string}' is not a palindrome.\")\n",
    "\n"
   ]
  },
  {
   "cell_type": "code",
   "execution_count": 7,
   "id": "03155a6f-6066-4afb-bc22-ed8eb4aa8ac1",
   "metadata": {},
   "outputs": [
    {
     "name": "stdout",
     "output_type": "stream",
     "text": [
      "Enter the main string:  hello\n",
      "Enter the substring to check:  el\n"
     ]
    },
    {
     "name": "stdout",
     "output_type": "stream",
     "text": [
      "The substring 'el' is present in the string 'hello'.\n"
     ]
    }
   ],
   "source": [
    "#qn 5\n",
    "def is_present(main_string, substring):\n",
    "    return substring in main_string\n",
    "\n",
    "main_string = input(\"Enter the main string: \")\n",
    "substring = input(\"Enter the substring to check: \")\n",
    "\n",
    "if is_present(main_string, substring):\n",
    "    print(f\"The substring '{substring}' is present in the string '{main_string}'.\")\n",
    "else:\n",
    "    print(f\"The substring '{substring}' is not present in the string '{main_string}'.\")\n"
   ]
  },
  {
   "cell_type": "code",
   "execution_count": 11,
   "id": "a7ec1f12-f2b1-483d-b30c-02d843211d9f",
   "metadata": {},
   "outputs": [
    {
     "name": "stdout",
     "output_type": "stream",
     "text": [
      "Enter a string:  (()(\n"
     ]
    },
    {
     "name": "stdout",
     "output_type": "stream",
     "text": [
      "The string '(()(' does not have balanced parentheses.\n"
     ]
    }
   ],
   "source": [
    "#qn 6\n",
    "def balanced(string):\n",
    "    count = 0\n",
    "    \n",
    "    for char in string:\n",
    "        if char == '(':\n",
    "            count += 1\n",
    "        elif char == ')':\n",
    "            count -= 1\n",
    "            \n",
    "            if count < 0:\n",
    "                return False\n",
    "    \n",
    "    return count == 0\n",
    "\n",
    "string = input(\"Enter a string: \")\n",
    "if balanced(string):\n",
    "    print(f\"The string '{string}' has balanced parentheses.\")\n",
    "else:\n",
    "    print(f\"The string '{string}' does not have balanced parentheses.\")\n",
    "\n"
   ]
  },
  {
   "cell_type": "code",
   "execution_count": 14,
   "id": "f5cb0cd0-2ddf-45b5-a639-256fdc182116",
   "metadata": {},
   "outputs": [
    {
     "name": "stdout",
     "output_type": "stream",
     "text": [
      "Enter the first string:  sun\n",
      "Enter the second string:  moon\n"
     ]
    },
    {
     "name": "stdout",
     "output_type": "stream",
     "text": [
      "Letters in the first string but not in the second: su\n"
     ]
    }
   ],
   "source": [
    "#qn 7\n",
    "def findunique_letters(str1, str2):\n",
    "    result = []\n",
    "    \n",
    "    for char in str1:\n",
    "        if char not in str2:\n",
    "            result.append(char)\n",
    "    \n",
    "    return ''.join(result)\n",
    "\n",
    "str1 = input(\"Enter the first string: \")\n",
    "str2 = input(\"Enter the second string: \")\n",
    "\n",
    "result = findunique_letters(str1, str2)\n",
    "print(f\"Letters in the first string but not in the second: {result}\")\n"
   ]
  },
  {
   "cell_type": "code",
   "execution_count": 17,
   "id": "d7242a29-6af3-45b5-8bc7-8c1b250bdf75",
   "metadata": {},
   "outputs": [
    {
     "name": "stdout",
     "output_type": "stream",
     "text": [
      "Enter a string:  hello\n"
     ]
    },
    {
     "name": "stdout",
     "output_type": "stream",
     "text": [
      "Transformed string: hElLo\n"
     ]
    }
   ],
   "source": [
    "#qn 8\n",
    "def func(input_string):\n",
    "    result = \"\"\n",
    "    \n",
    "    for i in range(len(input_string)):\n",
    "        if i % 2 == 0:\n",
    "            result += input_string[i].lower()\n",
    "        else:\n",
    "            result += input_string[i].upper()\n",
    "    \n",
    "    return result\n",
    "\n",
    "input_string = input(\"Enter a string: \")\n",
    "output_string =func(input_string)\n",
    "print(f\"Transformed string: {output_string}\")\n"
   ]
  },
  {
   "cell_type": "code",
   "execution_count": 20,
   "id": "7f0e87a6-056b-4c32-9348-d00db2368c0d",
   "metadata": {},
   "outputs": [
    {
     "name": "stdout",
     "output_type": "stream",
     "text": [
      "Enter the key to remove:  course\n"
     ]
    },
    {
     "name": "stdout",
     "output_type": "stream",
     "text": [
      "Key 'course' has been removed.\n",
      "Updated dictionary: {'name': 'Harry', 'age': 21, 'city': 'New Delhi'}\n"
     ]
    }
   ],
   "source": [
    "#qn 9\n",
    "def remove_key(dictionary, key):\n",
    "    if key in dictionary:\n",
    "        del dictionary[key]\n",
    "        print(f\"Key '{key}' has been removed.\")\n",
    "    else:\n",
    "        print(f\"Key '{key}' not found in the dictionary.\")\n",
    "\n",
    "\n",
    "dict = {\"name\": \"Harry\", \"age\": 21, \"city\": \"New Delhi\",\"course\":\"MCA\"}\n",
    "key_to_remove = input(\"Enter the key to remove: \")\n",
    "\n",
    "remove_key(dict, key_to_remove)\n",
    "print(\"Updated dictionary:\", dict)\n"
   ]
  },
  {
   "cell_type": "code",
   "execution_count": 24,
   "id": "0d94808a-f463-4525-922b-bb2bb1375f73",
   "metadata": {},
   "outputs": [
    {
     "name": "stdout",
     "output_type": "stream",
     "text": [
      "Enter a string:  sun girls girls moon star moon moon\n"
     ]
    },
    {
     "name": "stdout",
     "output_type": "stream",
     "text": [
      "Word Frequencies:\n",
      "sun: 1\n",
      "girls: 2\n",
      "moon: 3\n",
      "star: 1\n"
     ]
    }
   ],
   "source": [
    "#qn 10 \n",
    "def count_frequency(str):\n",
    "    words = str.split()\n",
    "    \n",
    "    word_frequency = {}\n",
    "\n",
    "    for word in words:\n",
    "        word = word.lower()  \n",
    "        if word in word_frequency:\n",
    "            word_frequency[word] += 1 \n",
    "        else:\n",
    "            word_frequency[word] = 1  \n",
    "    \n",
    "    return word_frequency\n",
    "\n",
    "str = input(\"Enter a string: \")\n",
    "word_count = count_frequency(str)\n",
    "\n",
    "print(\"Word Frequencies:\")\n",
    "for word, count in word_count.items():\n",
    "    print(f\"{word}: {count}\")\n"
   ]
  },
  {
   "cell_type": "code",
   "execution_count": 30,
   "id": "fdb810bb-89cb-49c3-9af4-60a184fcf65b",
   "metadata": {
    "scrolled": true
   },
   "outputs": [
    {
     "name": "stdout",
     "output_type": "stream",
     "text": [
      "Enter the number of students:  2\n",
      "\n",
      "Enter admission number:  12\n",
      "Enter roll number:  45\n",
      "Enter student's name:  Akhila\n",
      "Enter marks:  98\n",
      "\n",
      "Enter admission number:  13\n",
      "Enter roll number:  96\n",
      "Enter student's name:  Riya\n",
      "Enter marks:  93\n",
      "\n",
      "Enter the admission number to view information:  12\n"
     ]
    },
    {
     "name": "stdout",
     "output_type": "stream",
     "text": [
      "\n",
      "Student Information:\n",
      "Admission Number: 12\n",
      "Roll Number: 45\n",
      "Name: Akhila\n",
      "Marks: 98.0\n"
     ]
    }
   ],
   "source": [
    "#qn 11 \n",
    "def information():\n",
    "    students_info = {}\n",
    "\n",
    "    n = int(input(\"Enter the number of students: \"))\n",
    "\n",
    "    for _ in range(n):\n",
    "        admission_no = input(\"\\nEnter admission number: \")\n",
    "        rno = input(\"Enter roll number: \")\n",
    "        name = input(\"Enter student's name: \")\n",
    "        marks = float(input(\"Enter marks: \"))\n",
    "\n",
    "        students_info[admission_no] = {\n",
    "            'rno': rno,\n",
    "            'name': name,\n",
    "            'marks': marks\n",
    "        }\n",
    "    \n",
    "    return students_info\n",
    "\n",
    "def display(students_info, admission_number):\n",
    "    if admission_number in students_info:\n",
    "        student = students_info[admission_number]\n",
    "        \n",
    "        print(\"\\nStudent Information:\")\n",
    "        print(f\"Admission Number: {admission_number}\")\n",
    "        print(f\"Roll Number: {student['rno']}\")\n",
    "        print(f\"Name: {student['name']}\")\n",
    "        print(f\"Marks: {student['marks']}\")\n",
    "    else:\n",
    "        print(f\"No student found with admission number {admission_number}\")\n",
    "\n",
    "\n",
    "students_info = information()  \n",
    "\n",
    "admission_number = input(\"\\nEnter the admission number to view information: \")\n",
    "\n",
    "display(students_info, admission_number)#dic,int\n"
   ]
  },
  {
   "cell_type": "code",
   "execution_count": 1,
   "id": "87828b4f-2d35-406a-98a2-00930fc832d3",
   "metadata": {},
   "outputs": [
    {
     "name": "stdout",
     "output_type": "stream",
     "text": [
      "Total Sum is : 250\n"
     ]
    }
   ],
   "source": [
    "#qn 12\n",
    "def nested_sum(lst):\n",
    "    total = 0\n",
    "    for item in lst:\n",
    "        if isinstance(item, list):  \n",
    "            total += nested_sum(item)\n",
    "        else: \n",
    "            total += item\n",
    "    return total\n",
    "\n",
    "\n",
    "nested_list = [16, [90, 3, [46, 15]], 36, [27, [8, 9]]]\n",
    "result = nested_sum(nested_list)\n",
    "print(\"Total Sum is :\", result)\n"
   ]
  },
  {
   "cell_type": "code",
   "execution_count": 6,
   "id": "f5be3128-f538-4d2b-98c7-a4716e38611d",
   "metadata": {},
   "outputs": [
    {
     "name": "stdout",
     "output_type": "stream",
     "text": [
      "Enter the filename:  file1\n",
      "Enter a string to append to the file:  hello do coding\n"
     ]
    },
    {
     "name": "stdout",
     "output_type": "stream",
     "text": [
      "hello do coding has been appended to file1.\n"
     ]
    }
   ],
   "source": [
    "#qn 13 \n",
    "def append_to_file(filename, text):\n",
    "    with open(filename, 'a') as file:  \n",
    "        file.write(text + '\\n')\n",
    "\n",
    "filename = input(\"Enter the filename: \") \n",
    "user_input = input(\"Enter a string to append to the file: \")  \n",
    "\n",
    "append_to_file(filename, user_input)\n",
    "\n",
    "print(f\"{user_input} has been appended to {filename}.\")\n"
   ]
  },
  {
   "cell_type": "code",
   "execution_count": 7,
   "id": "0978a57a-2233-4111-8a1b-6590e42c6069",
   "metadata": {},
   "outputs": [
    {
     "name": "stdout",
     "output_type": "stream",
     "text": [
      "Enter the filename:  file1\n",
      "Enter the word to count in file:  hello\n"
     ]
    },
    {
     "name": "stdout",
     "output_type": "stream",
     "text": [
      "The word 'hello' appears 2 times in  file named file1.\n"
     ]
    }
   ],
   "source": [
    "#qn 14 \n",
    "def count_word(filename, word):\n",
    "    with open(filename, 'r') as file:  \n",
    "        text = file.read() \n",
    "        word_count = text.lower().split().count(word.lower()) \n",
    "    return word_count\n",
    "\n",
    "filename = input(\"Enter the filename: \")  \n",
    "word = input(\"Enter the word to count in file: \") \n",
    "\n",
    "occurrences = count_word(filename, word)\n",
    "\n",
    "print(f\"The word '{word}' appears {occurrences} times in  file named {filename}.\")\n"
   ]
  },
  {
   "cell_type": "code",
   "execution_count": 10,
   "id": "2380e6c8-bf3a-4b59-93b0-2a40c3827fe5",
   "metadata": {},
   "outputs": [
    {
     "name": "stdout",
     "output_type": "stream",
     "text": [
      "Enter the first filename:  file1\n",
      "Enter the second filename:  file2\n"
     ]
    },
    {
     "name": "stdout",
     "output_type": "stream",
     "text": [
      "The files 'file1' and 'file2' are different.\n",
      "Total number of lines in 'file1' is : 3\n",
      "Total number of lines in 'file2' is : 1\n"
     ]
    }
   ],
   "source": [
    "#qn 15\n",
    "def func(file1, file2):\n",
    "    with open(file1, 'r') as f1, open(file2, 'r') as f2:\n",
    "        file1_lines = f1.readlines()\n",
    "        file2_lines = f2.readlines()\n",
    "\n",
    "        if file1_lines == file2_lines:\n",
    "            print(f\"The files '{file1}' and '{file2}' are same.\")\n",
    "        else:\n",
    "            print(f\"The files '{file1}' and '{file2}' are different.\")\n",
    "\n",
    "        print(f\"Total number of lines in '{file1}' is : {len(file1_lines)}\")\n",
    "        print(f\"Total number of lines in '{file2}' is : {len(file2_lines)}\")\n",
    "\n",
    "file1 = input(\"Enter the first filename: \") \n",
    "file2 = input(\"Enter the second filename: \")  \n",
    "func(file1, file2)\n"
   ]
  },
  {
   "cell_type": "code",
   "execution_count": 11,
   "id": "0878add2-3be6-49d1-b5d3-31d32855eb7c",
   "metadata": {},
   "outputs": [
    {
     "name": "stdout",
     "output_type": "stream",
     "text": [
      "Original List: [10, 51, 2, 18, 4, 31, 13, 5, 23, 64, 29]\n",
      "Sorted List After Bubblesort: [2, 4, 5, 10, 13, 18, 23, 29, 31, 51, 64]\n"
     ]
    }
   ],
   "source": [
    "#qn 17\n",
    "def bubble_sort(arr):\n",
    "    n = len(arr)\n",
    "    for i in range(n):\n",
    "        for j in range(0, n-i-1):\n",
    "            if arr[j] > arr[j+1]:\n",
    "                arr[j], arr[j+1] = arr[j+1], arr[j]\n",
    "\n",
    "arr = [10, 51, 2, 18, 4, 31, 13, 5, 23, 64, 29] \n",
    "\n",
    "print(\"Original List:\", arr)\n",
    "bubble_sort(arr)\n",
    "print(\"Sorted List After Bubblesort:\", arr)\n"
   ]
  },
  {
   "cell_type": "code",
   "execution_count": 13,
   "id": "e2bb5a4a-4e4c-48a0-a971-ec12adc23eae",
   "metadata": {},
   "outputs": [
    {
     "name": "stdout",
     "output_type": "stream",
     "text": [
      "Enter the list of integers:  1 5 8 9 3 55\n",
      "Enter the key to search for in list:  8\n"
     ]
    },
    {
     "name": "stdout",
     "output_type": "stream",
     "text": [
      "The key 8 is found at index 2.\n"
     ]
    }
   ],
   "source": [
    "#qn 16\n",
    "def linear_search(mylist, key):\n",
    "    for index in range(len(mylist)):  \n",
    "        if mylist[index] == key:  \n",
    "            return index\n",
    "    return -1  \n",
    "\n",
    "mylist = input(\"Enter the list of integers: \").split()\n",
    "\n",
    "mylist = [int(x) for x in mylist] #string to int\n",
    "\n",
    "key = int(input(\"Enter the key to search for in list: \"))\n",
    "\n",
    "index = linear_search(mylist, key)\n",
    "\n",
    "if index != -1:\n",
    "    print(f\"The key {key} is found at index {index}.\")\n",
    "else:\n",
    "    print(f\"The key {key} is not found in the list!\")\n"
   ]
  },
  {
   "cell_type": "code",
   "execution_count": null,
   "id": "296d906a-facc-4ccf-9edf-1a047318c1d8",
   "metadata": {},
   "outputs": [],
   "source": [
    "num = 1634\n",
    "\n",
    "# Changed num variable to string, \n",
    "# and calculated the length (number of digits)\n",
    "order = len(str(num))\n",
    "\n",
    "# initialize sum\n",
    "sum = 0\n",
    "\n",
    "# find the sum of the cube of each digit\n",
    "temp = num\n",
    "while temp > 0:\n",
    "   digit = temp % 10\n",
    "   sum += digit ** order\n",
    "   temp //= 10\n",
    "\n",
    "# display the result\n",
    "if num == sum:\n",
    "   print(num,\"is an Armstrong number\")\n",
    "else:\n",
    "   print(num,\"is not an Armstrong number\")\n"
   ]
  },
  {
   "cell_type": "code",
   "execution_count": null,
   "id": "1d516334",
   "metadata": {},
   "outputs": [],
   "source": [
    "\n",
    "vowels = 'aeiou'\n",
    "\n",
    "ip_str = 'Hello, have you tried our tutorial section yet?'\n",
    "\n",
    "# make it suitable for caseless comparisions\n",
    "ip_str = ip_str.casefold()\n",
    "\n",
    "# make a dictionary with each vowel a key and value 0\n",
    "count = {}.fromkeys(vowels,0)\n",
    "\n",
    "# count the vowels\n",
    "for char in ip_str:\n",
    "   if char in count:\n",
    "       count[char] += 1\n",
    "\n",
    "print(count)\n"
   ]
  }
 ],
 "metadata": {
  "kernelspec": {
   "display_name": "Python 3 (ipykernel)",
   "language": "python",
   "name": "python3"
  },
  "language_info": {
   "codemirror_mode": {
    "name": "ipython",
    "version": 3
   },
   "file_extension": ".py",
   "mimetype": "text/x-python",
   "name": "python",
   "nbconvert_exporter": "python",
   "pygments_lexer": "ipython3",
   "version": "3.13.1"
  }
 },
 "nbformat": 4,
 "nbformat_minor": 5
}
