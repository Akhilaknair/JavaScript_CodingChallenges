{
 "cells": [
  {
   "cell_type": "code",
   "execution_count": 8,
   "id": "8fc9aaf7-ac9d-49f0-98fb-55e12670432f",
   "metadata": {},
   "outputs": [
    {
     "name": "stdin",
     "output_type": "stream",
     "text": [
      "Enter the lower limit:  10\n",
      "Enter the upper limit:  50\n"
     ]
    },
    {
     "name": "stdout",
     "output_type": "stream",
     "text": [
      "11 , 13 , 17 , 19 , 23 , 29 , 31 , 37 , 41 , 43 , 47 , "
     ]
    }
   ],
   "source": [
    "def funcn(ll,ul):\n",
    "    sieve=[True]*(ul+1)\n",
    "    sieve[0]=sieve[1]=False\n",
    "\n",
    "    for num in range(2,int(ul**0.5)+1):\n",
    "        if sieve[num]:\n",
    "            for multi in range(num*num,ul+1,num):\n",
    "                sieve[multi]=False\n",
    "       \n",
    "\n",
    "    for i in range(ll,ul+1):\n",
    "        if sieve[i]:\n",
    "            print(i,end=\"  \")\n",
    "\n",
    "\n",
    "ll = int(input(\"Enter the lower limit: \"))\n",
    "ul = int(input(\"Enter the upper limit: \"))\n",
    "funcn(ll, ul)"
   ]
  },
  {
   "cell_type": "code",
   "execution_count": null,
   "id": "9fc36db7-8169-4109-a2f6-08b8198642b7",
   "metadata": {},
   "outputs": [],
   "source": []
  }
 ],
 "metadata": {
  "kernelspec": {
   "display_name": "Python 3 (ipykernel)",
   "language": "python",
   "name": "python3"
  },
  "language_info": {
   "codemirror_mode": {
    "name": "ipython",
    "version": 3
   },
   "file_extension": ".py",
   "mimetype": "text/x-python",
   "name": "python",
   "nbconvert_exporter": "python",
   "pygments_lexer": "ipython3",
   "version": "3.13.1"
  }
 },
 "nbformat": 4,
 "nbformat_minor": 5
}
