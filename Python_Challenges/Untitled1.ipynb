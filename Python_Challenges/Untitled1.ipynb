{
 "cells": [
  {
   "cell_type": "code",
   "execution_count": 1,
   "id": "9688b3a1-431e-455d-ad69-6a181ddaf1dc",
   "metadata": {},
   "outputs": [],
   "source": [
    "import numpy as np\n",
    "\n"
   ]
  },
  {
   "cell_type": "code",
   "execution_count": 2,
   "id": "bcf7649a-13f0-42c7-b2c6-7ee798f221a0",
   "metadata": {},
   "outputs": [
    {
     "name": "stdout",
     "output_type": "stream",
     "text": [
      "[0 1 2 3 4 5 6 7 8 9]\n"
     ]
    }
   ],
   "source": [
    "arr = np.arange(10)\n",
    "print(arr)\n"
   ]
  },
  {
   "cell_type": "code",
   "execution_count": null,
   "id": "4d6686c9-8424-4950-bb56-10afd1e8cf94",
   "metadata": {},
   "outputs": [],
   "source": [
    "arr = np.array([[1, 2, 3], [4, 5, 6]])\n",
    "print(arr.shape)      # (2, 3)\n",
    "print(arr.dtype)    \n"
   ]
  },
  {
   "cell_type": "code",
   "execution_count": 3,
   "id": "577138c7-1661-4899-9c6a-2627cf8a9a2c",
   "metadata": {},
   "outputs": [
    {
     "name": "stdout",
     "output_type": "stream",
     "text": [
      "[[0 1 2]\n",
      " [3 4 5]\n",
      " [6 7 8]]\n"
     ]
    }
   ],
   "source": [
    "arr = np.arange(9)\n",
    "reshaped = arr.reshape((3, 3))\n",
    "print(reshaped)"
   ]
  },
  {
   "cell_type": "code",
   "execution_count": 4,
   "id": "942cf5a9-1783-4fd1-b7df-ca2576944bbf",
   "metadata": {},
   "outputs": [
    {
     "name": "stdout",
     "output_type": "stream",
     "text": [
      "[1 3 5 8]\n"
     ]
    }
   ],
   "source": [
    "arr = np.array([5, 3, 8, 1])\n",
    "sorted_arr = np.sort(arr)\n",
    "print(sorted_arr) \n"
   ]
  },
  {
   "cell_type": "code",
   "execution_count": 5,
   "id": "d91cd06a-47c7-491f-b0cd-b62f8f31faa9",
   "metadata": {},
   "outputs": [
    {
     "name": "stdout",
     "output_type": "stream",
     "text": [
      "[[0. 0. 0.]\n",
      " [0. 0. 0.]\n",
      " [0. 0. 0.]]\n"
     ]
    }
   ],
   "source": [
    "zeros = np.zeros((3, 3))\n",
    "print(zeros)\n"
   ]
  },
  {
   "cell_type": "code",
   "execution_count": 6,
   "id": "dd85797f-9936-4632-a076-f3831172aa8f",
   "metadata": {},
   "outputs": [
    {
     "name": "stdout",
     "output_type": "stream",
     "text": [
      "[[0.68929625 0.42401001]\n",
      " [0.10234447 0.88457083]]\n"
     ]
    }
   ],
   "source": [
    "rand_arr = np.random.rand(2, 2)\n",
    "print(rand_arr)\n"
   ]
  },
  {
   "cell_type": "code",
   "execution_count": 7,
   "id": "fec7a45f-eb20-404a-ace4-8064e034ab42",
   "metadata": {},
   "outputs": [
    {
     "name": "stdout",
     "output_type": "stream",
     "text": [
      "[[1 3 5]\n",
      " [2 4 6]]\n"
     ]
    }
   ],
   "source": [
    "arr = np.array([[1, 2], [3, 4], [5, 6]])\n",
    "transposed = np.transpose(arr)\n",
    "print(transposed)\n"
   ]
  },
  {
   "cell_type": "code",
   "execution_count": 8,
   "id": "b6cef4a9-f934-4189-9f9e-d5c15ab8ea5a",
   "metadata": {},
   "outputs": [
    {
     "name": "stdout",
     "output_type": "stream",
     "text": [
      "[-1.41421356 -0.70710678  0.          0.70710678  1.41421356]\n"
     ]
    }
   ],
   "source": [
    "arr = np.array([1, 2, 3, 4, 5])\n",
    "normalized = (arr - np.mean(arr)) / np.std(arr)\n",
    "print(normalized)\n"
   ]
  },
  {
   "cell_type": "code",
   "execution_count": 9,
   "id": "9942b80a-ee62-4514-9228-e656a3cd6ddd",
   "metadata": {},
   "outputs": [
    {
     "name": "stdout",
     "output_type": "stream",
     "text": [
      "[[1 2 3]\n",
      " [4 5 6]]\n",
      "[1 2 3 4 5 6]\n"
     ]
    }
   ],
   "source": [
    "arr1 = np.array([1, 2, 3])\n",
    "arr2 = np.array([4, 5, 6])\n",
    "\n",
    "# Vertically\n",
    "v_stack = np.vstack((arr1, arr2))\n",
    "print(v_stack)\n",
    "\n",
    "# Horizontally\n",
    "h_stack = np.hstack((arr1, arr2))\n",
    "print(h_stack)\n"
   ]
  },
  {
   "cell_type": "code",
   "execution_count": null,
   "id": "9da1fd0b-34b9-4ebd-8a9d-7a2fafc5bb7a",
   "metadata": {},
   "outputs": [],
   "source": []
  }
 ],
 "metadata": {
  "kernelspec": {
   "display_name": "Python 3 (ipykernel)",
   "language": "python",
   "name": "python3"
  },
  "language_info": {
   "codemirror_mode": {
    "name": "ipython",
    "version": 3
   },
   "file_extension": ".py",
   "mimetype": "text/x-python",
   "name": "python",
   "nbconvert_exporter": "python",
   "pygments_lexer": "ipython3",
   "version": "3.13.1"
  }
 },
 "nbformat": 4,
 "nbformat_minor": 5
}
