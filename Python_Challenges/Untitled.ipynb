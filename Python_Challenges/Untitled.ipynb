{
 "cells": [
  {
   "cell_type": "code",
   "execution_count": 22,
   "id": "36f95a8d-1082-4216-ae10-3cf1e96888d5",
   "metadata": {},
   "outputs": [
    {
     "name": "stdin",
     "output_type": "stream",
     "text": [
      "enter a string hello\n"
     ]
    },
    {
     "name": "stdout",
     "output_type": "stream",
     "text": [
      "olleh\n"
     ]
    }
   ],
   "source": [
    "#1\n",
    "str=input(\"enter a string\")\n",
    "str=str[::-1]\n",
    "print(str)"
   ]
  },
  {
   "cell_type": "code",
   "execution_count": 33,
   "id": "df1b83a5-d25c-4ae7-9eee-d6b4cdd546e5",
   "metadata": {},
   "outputs": [
    {
     "name": "stdout",
     "output_type": "stream",
     "text": [
      "alpha :  16 lower :  13 upper: 3 digit: 3\n"
     ]
    }
   ],
   "source": [
    "#2\n",
    "str=\"hello I Am Goodgirl123\"\n",
    "a=0\n",
    "d=0\n",
    "l=0\n",
    "u=0\n",
    "cnt=0\n",
    "for i in range (0,len(str)):\n",
    "    if str[i].isalpha():\n",
    "        a=a+1\n",
    "    if str[i].islower():\n",
    "        l=l+1\n",
    "    if str[i].isupper():\n",
    "        u=u+1\n",
    "    elif str[i].isdigit():\n",
    "        d=d+1\n",
    "    \n",
    "print(\"alpha : \",a,\"lower : \",l,\"upper:\",u,\"digit:\",d)"
   ]
  },
  {
   "cell_type": "code",
   "execution_count": 37,
   "id": "5930cacf-2c22-4d98-9fb6-b3dfd302f5b0",
   "metadata": {},
   "outputs": [
    {
     "name": "stdout",
     "output_type": "stream",
     "text": [
      "{1: (10, 'akhila', 100), 2: (20, 'Manisha', 200), 3: (30, 'Himanshi', 300)}\n",
      "key :1 , value:(10, 'akhila', 100)\n",
      " rollno: 10, name: akhila , marks: 100\n",
      "key :2 , value:(20, 'Manisha', 200)\n",
      " rollno: 20, name: Manisha , marks: 200\n",
      "key :3 , value:(30, 'Himanshi', 300)\n",
      " rollno: 30, name: Himanshi , marks: 300\n"
     ]
    }
   ],
   "source": [
    "#3\n",
    "dict={\n",
    "    1:(10,\"Akhila\",100),\n",
    "    2:(20,\"Manisha\",200),\n",
    "    3:(30,\"Himanshi\",300)\n",
    "}\n",
    "\n",
    "print(dict)\n",
    "\n",
    "for key,value in dict.items():\n",
    "    print(f\"key :{key} , value:{value}\")\n",
    "    rno,name,marks=value\n",
    "    print(f\" rollno:{rno}, name:{name} , marks:{marks}\")\n",
    "    \n",
    "\n"
   ]
  },
  {
   "cell_type": "code",
   "execution_count": 43,
   "id": "fd8427bb-66b7-4719-8e6b-50dbbcefb6a0",
   "metadata": {},
   "outputs": [
    {
     "name": "stdout",
     "output_type": "stream",
     "text": [
      "36\n"
     ]
    }
   ],
   "source": [
    "#nested list sum using recursion\n",
    "def sum(lt):\n",
    "    ts=0\n",
    "    for i in lt:\n",
    "        if(isinstance(i,list)):\n",
    "            ts+=sum(i)\n",
    "        else:\n",
    "            ts+=i\n",
    "    return ts    \n",
    "print(sum([1, [2, 3], [4, [5, 6], 7], 8]))\n"
   ]
  },
  {
   "cell_type": "code",
   "execution_count": 52,
   "id": "b3b074b5-8f1a-46cd-9f91-324f641e469c",
   "metadata": {},
   "outputs": [
    {
     "name": "stdout",
     "output_type": "stream",
     "text": [
      "[2, 4]\n"
     ]
    }
   ],
   "source": [
    "#delete neg and odd \n",
    "arr=[1,2,5,-2,-9,4]\n",
    "i=0\n",
    "while i<len(arr):\n",
    "    if arr[i]<0 or arr[i]%2!=0:\n",
    "        del arr[i]\n",
    "    else:\n",
    "        i=i+1\n",
    "        \n",
    "print(arr)"
   ]
  },
  {
   "cell_type": "code",
   "execution_count": null,
   "id": "0b65585e-7d2a-451d-8257-6dc2d187b735",
   "metadata": {},
   "outputs": [],
   "source": []
  },
  {
   "cell_type": "code",
   "execution_count": null,
   "id": "1dcff523-406c-404a-91a7-b58bed362d7f",
   "metadata": {},
   "outputs": [],
   "source": []
  }
 ],
 "metadata": {
  "kernelspec": {
   "display_name": "Python 3 (ipykernel)",
   "language": "python",
   "name": "python3"
  },
  "language_info": {
   "codemirror_mode": {
    "name": "ipython",
    "version": 3
   },
   "file_extension": ".py",
   "mimetype": "text/x-python",
   "name": "python",
   "nbconvert_exporter": "python",
   "pygments_lexer": "ipython3",
   "version": "3.13.1"
  }
 },
 "nbformat": 4,
 "nbformat_minor": 5
}
