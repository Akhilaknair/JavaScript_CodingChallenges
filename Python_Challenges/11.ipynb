{
 "cells": [
  {
   "cell_type": "code",
   "execution_count": 13,
   "id": "3c8b5271-78ea-41f2-ba21-676b3367fd2c",
   "metadata": {},
   "outputs": [
    {
     "name": "stdout",
     "output_type": "stream",
     "text": [
      "Input string is ::  abc \n",
      "output string is ::  def\n"
     ]
    }
   ],
   "source": [
    "def func(string):\n",
    "    ans=\"\"\n",
    "    key=3\n",
    "    for char in string:\n",
    "        if(char.isalpha()):\n",
    "            #start=ord('a') if char.islower() else ord('A')\n",
    "            newchar=chr(((ord(char)-ord('a')+key)%26)+ord('a'))\n",
    "            ans+=newchar\n",
    "        else:\n",
    "            ans+=char  \n",
    "   \n",
    "    return ans \n",
    "\n",
    "string=\"abc\"\n",
    "print(f\"Input string is ::  {string} \\nOutput string is :: \" ,func(string))"
   ]
  },
  {
   "cell_type": "code",
   "execution_count": null,
   "id": "cf24b00c-3edf-4b08-aa3e-8944b1d292fd",
   "metadata": {},
   "outputs": [],
   "source": []
  }
 ],
 "metadata": {
  "kernelspec": {
   "display_name": "Python 3 (ipykernel)",
   "language": "python",
   "name": "python3"
  },
  "language_info": {
   "codemirror_mode": {
    "name": "ipython",
    "version": 3
   },
   "file_extension": ".py",
   "mimetype": "text/x-python",
   "name": "python",
   "nbconvert_exporter": "python",
   "pygments_lexer": "ipython3",
   "version": "3.13.1"
  }
 },
 "nbformat": 4,
 "nbformat_minor": 5
}
