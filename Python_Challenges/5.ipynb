{
 "cells": [
  {
   "cell_type": "code",
   "execution_count": 3,
   "id": "feb4a944-20db-4ed5-818a-f6e859a6b547",
   "metadata": {},
   "outputs": [
    {
     "name": "stdin",
     "output_type": "stream",
     "text": [
      "Enter an integer:  28\n"
     ]
    },
    {
     "name": "stdout",
     "output_type": "stream",
     "text": [
      "The smallest divisor of 28 (other than 1) is: 2\n"
     ]
    }
   ],
   "source": [
    "import math\n",
    "def funcn(n):\n",
    "    for i in range(2,int(math.sqrt(n))+1):\n",
    "        if(n%i==0):\n",
    "            return i\n",
    "    return n\n",
    "\n",
    "n = int(input(\"Enter an integer: \"))\n",
    "result = funcn(n)\n",
    "print(f\"The smallest divisor of {n} (other than 1) is: {result}\")"
   ]
  },
  {
   "cell_type": "code",
   "execution_count": null,
   "id": "959163ab-96fb-4a56-a067-53a6b9d1a3c6",
   "metadata": {},
   "outputs": [],
   "source": []
  }
 ],
 "metadata": {
  "kernelspec": {
   "display_name": "Python 3 (ipykernel)",
   "language": "python",
   "name": "python3"
  },
  "language_info": {
   "codemirror_mode": {
    "name": "ipython",
    "version": 3
   },
   "file_extension": ".py",
   "mimetype": "text/x-python",
   "name": "python",
   "nbconvert_exporter": "python",
   "pygments_lexer": "ipython3",
   "version": "3.13.1"
  }
 },
 "nbformat": 4,
 "nbformat_minor": 5
}
