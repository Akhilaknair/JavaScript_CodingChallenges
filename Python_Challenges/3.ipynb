{
 "cells": [
  {
   "cell_type": "code",
   "execution_count": 2,
   "id": "90d2d01b-5347-42d3-8596-b8373ead0ff1",
   "metadata": {},
   "outputs": [
    {
     "name": "stdin",
     "output_type": "stream",
     "text": [
      "enter num1  4\n",
      "enter num2  6\n",
      "enter num3  1\n"
     ]
    },
    {
     "name": "stdout",
     "output_type": "stream",
     "text": [
      "4 6 1\n",
      "4 1 6\n",
      "6 4 1\n",
      "6 1 4\n",
      "1 4 6\n",
      "1 6 4\n"
     ]
    }
   ],
   "source": [
    "n1=int(input(\"enter num1 \"))\n",
    "n2=int(input(\"enter num2 \"))\n",
    "n3=int(input(\"enter num3 \"))\n",
    "arr=[n1,n2,n3]\n",
    "for i in arr:\n",
    "    for j in arr:\n",
    "        for k in arr:\n",
    "            if i!=j and j!=k and k!=i:\n",
    "                print(i,j,k)"
   ]
  },
  {
   "cell_type": "code",
   "execution_count": null,
   "id": "391d0a22-1bfa-407a-91b5-b5bb42fbe898",
   "metadata": {},
   "outputs": [],
   "source": []
  }
 ],
 "metadata": {
  "kernelspec": {
   "display_name": "Python 3 (ipykernel)",
   "language": "python",
   "name": "python3"
  },
  "language_info": {
   "codemirror_mode": {
    "name": "ipython",
    "version": 3
   },
   "file_extension": ".py",
   "mimetype": "text/x-python",
   "name": "python",
   "nbconvert_exporter": "python",
   "pygments_lexer": "ipython3",
   "version": "3.13.1"
  }
 },
 "nbformat": 4,
 "nbformat_minor": 5
}
